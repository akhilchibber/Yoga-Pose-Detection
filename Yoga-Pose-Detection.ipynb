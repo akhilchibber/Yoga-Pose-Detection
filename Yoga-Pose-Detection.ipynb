{
  "nbformat": 4,
  "nbformat_minor": 0,
  "metadata": {
    "colab": {
      "provenance": [],
      "machine_shape": "hm",
      "gpuType": "A100"
    },
    "kernelspec": {
      "name": "python3",
      "display_name": "Python 3"
    },
    "language_info": {
      "name": "python"
    },
    "accelerator": "GPU"
  },
  "cells": [
    {
      "cell_type": "markdown",
      "source": [
        "# **Yoga Pose Detection Using Deep Learning:**\n",
        "\n",
        "## **Project Overview**\n",
        "This project focuses on developing a deep learning model to classify images into different yoga poses. Yoga, known for its benefits in enhancing flexibility, strength, and mental well-being, includes various poses with specific benefits. With the advancement of technology, smart solutions can be implemented to assist and guide individuals in correctly performing yoga poses. This project aims to leverage such technology to classify images into yoga poses like the downward dog, goddess, tree, plank, and warrior poses.\n",
        "\n",
        "## **Dataset**\n",
        "The dataset used in this project is the \"Yoga Poses Dataset\" available on Kaggle, which can be accessed [here](https://www.kaggle.com/datasets/niharika41298/yoga-poses-dataset/data). This dataset consists of images categorized into five classes, representing different yoga poses. These images are extracted using the Bing API, and therefore, some may contain watermarks or text. The dataset is divided into training and testing subsets, each containing subfolders for the five classes of yoga poses.\n",
        "\n",
        "## **Approach**\n",
        "The project is structured into multiple stages:\n",
        "\n",
        "**1. Data Preparation:** Loading the dataset, pre-processing the images, and setting up data augmentation techniques for robust training.\n",
        "\n",
        "**2. Model Building:** Constructing a convolutional neural network (CNN) using transfer learning from the Xception model.\n",
        "\n",
        "**3. Model Training and Validation:** Compiling and training the model on the dataset, along with validating its performance.\n",
        "\n",
        "**4. Model Evaluation:** Assessing the trained model's accuracy and loss on the test dataset.\n",
        "\n",
        "**5. Results and Visualization:** Visualizing the training process and performance metrics, and saving the trained model for future use.\n",
        "\n",
        "Through this project, we aim to create a model that accurately identifies and classifies yoga poses, providing a foundation for developing applications that can guide users in their yoga practices."
      ],
      "metadata": {
        "id": "VPVaOj2cwtF3"
      }
    },
    {
      "cell_type": "markdown",
      "source": [
        "# **Step 1. Data Preparation**\n",
        "This part will include loading the dataset, pre-processing the images to ensure they're in a uniform format suitable for input into a neural network, and setting up data augmentation to enhance the diversity of the training data. Augmentation techniques like flipping, zooming, or rotating the images help in improving the model's ability to generalize. Additionally, this step includes removing any corrupted images and setting up data generators that will supply batches of images and labels during the training and validation phases."
      ],
      "metadata": {
        "id": "9UWkrDatnjPf"
      }
    },
    {
      "cell_type": "code",
      "source": [
        "# Mount Google Drive with Colab\n",
        "from google.colab import drive\n",
        "drive.mount('/content/drive')"
      ],
      "metadata": {
        "colab": {
          "base_uri": "https://localhost:8080/"
        },
        "id": "8IMv8_DtpEx-",
        "outputId": "c1316bbf-fe35-4e01-ac4a-4819bd6f1b01"
      },
      "execution_count": null,
      "outputs": [
        {
          "output_type": "stream",
          "name": "stdout",
          "text": [
            "Mounted at /content/drive\n"
          ]
        }
      ]
    },
    {
      "cell_type": "code",
      "execution_count": null,
      "metadata": {
        "id": "i5NTapcXncfW"
      },
      "outputs": [],
      "source": [
        "# Importing Libraries\n",
        "import numpy as np\n",
        "import pandas as pd\n",
        "import matplotlib.pyplot as plt\n",
        "import os\n",
        "import tensorflow as tf\n",
        "from PIL import Image, ImageFile\n",
        "from tensorflow.keras.preprocessing.image import ImageDataGenerator"
      ]
    },
    {
      "cell_type": "code",
      "source": [
        "# Preventing errors with truncated images\n",
        "ImageFile.LOAD_TRUNCATED_IMAGES = True\n",
        "\n",
        "# Function to remove corrupted images\n",
        "def removeCorruptedImages(path):\n",
        "    for filename in os.listdir(path):\n",
        "        try:\n",
        "            img = Image.open(os.path.join(path,filename))\n",
        "            img.verify()\n",
        "        except (IOError, SyntaxError) as e:\n",
        "            print('Bad file:', filename)\n",
        "            os.remove(os.path.join(path,filename))"
      ],
      "metadata": {
        "id": "Tq2Qw3Zmnry3"
      },
      "execution_count": null,
      "outputs": []
    },
    {
      "cell_type": "code",
      "source": [
        "# Setting up directories\n",
        "basedir = \"/content/drive/MyDrive/YOGA_POSE_DETECTION/INPUT_DATASET\"\n",
        "traindir = os.path.join(basedir, 'TRAIN')\n",
        "validdir = os.path.join(basedir, 'TEST')\n",
        "\n",
        "# Removing corrupted images\n",
        "classes = ['downdog', 'goddess', 'plank', 'tree', 'warrior2']\n",
        "for cls in classes:\n",
        "    removeCorruptedImages(os.path.join(traindir, cls))\n",
        "    removeCorruptedImages(os.path.join(validdir, cls))"
      ],
      "metadata": {
        "id": "m1_4GzCznvFC"
      },
      "execution_count": null,
      "outputs": []
    },
    {
      "cell_type": "code",
      "source": [
        "# Preparing Data Generators\n",
        "train_datagen = ImageDataGenerator(rescale = 1./255, shear_range = 0.2, zoom_range = 0.2, horizontal_flip = True)\n",
        "test_datagen = ImageDataGenerator(rescale = 1./255)\n",
        "\n",
        "bx = 16\n",
        "\n",
        "train_generator = train_datagen.flow_from_directory(traindir, target_size = (300, 300), batch_size = bx, class_mode = 'categorical')\n",
        "valid_generator = test_datagen.flow_from_directory(validdir, target_size = (300, 300), batch_size = bx, class_mode = 'categorical')"
      ],
      "metadata": {
        "colab": {
          "base_uri": "https://localhost:8080/"
        },
        "id": "5LG79N7NnyAw",
        "outputId": "962746e6-65f3-4c96-f509-2efd93617e84"
      },
      "execution_count": null,
      "outputs": [
        {
          "output_type": "stream",
          "name": "stdout",
          "text": [
            "Found 1081 images belonging to 5 classes.\n",
            "Found 470 images belonging to 5 classes.\n"
          ]
        }
      ]
    },
    {
      "cell_type": "markdown",
      "source": [
        "# **Step 2. Model Building**\n",
        "This part is where you construct your neural network. This typically involves selecting a base model, such as a pre-trained network like Xception, and customizing it by adding layers tailored to the specific task of yoga pose detection. The architecture is finalized with an output layer designed to classify the number of yoga poses we're focusing on."
      ],
      "metadata": {
        "id": "k5foekCSn0z_"
      }
    },
    {
      "cell_type": "code",
      "source": [
        "from tensorflow.keras.models import Sequential, Model\n",
        "from tensorflow.keras.layers import Flatten, Dense, Activation, Dropout\n",
        "from tensorflow.keras.applications import Xception\n",
        "\n",
        "# Building the model\n",
        "base_model = Xception(weights = '/content/drive/MyDrive/YOGA_POSE_DETECTION/PRE_TRAINED/xception_weights_tf_dim_ordering_tf_kernels_notop.h5',\n",
        "                      include_top = False,\n",
        "                      input_shape = (300, 300, 3))\n",
        "\n",
        "model = Sequential([\n",
        "    Flatten(input_shape = base_model.output_shape[1:]),\n",
        "    Dense(128, activation = 'relu'),\n",
        "    Dropout(0.2),\n",
        "    Dense(5, activation = 'softmax')\n",
        "])\n",
        "\n",
        "model = Model(inputs = base_model.input, outputs = model(base_model.output))"
      ],
      "metadata": {
        "id": "LDa0zM2tn56w"
      },
      "execution_count": null,
      "outputs": []
    },
    {
      "cell_type": "markdown",
      "source": [
        "# **Step 3. Model Training and Validation**\n",
        "This section involves compiling the model with appropriate loss functions, optimizers, and metrics, then training it using the prepared data. Concurrent validation ensures the model is learning effectively and not just memorizing the training data, a common problem known as overfitting."
      ],
      "metadata": {
        "id": "Fd0w8gKfoBPQ"
      }
    },
    {
      "cell_type": "code",
      "source": [
        "# Compiling the model\n",
        "model.compile(optimizer=tf.keras.optimizers.SGD(learning_rate = 0.0001, momentum = 0.9, nesterov = True),\n",
        "              loss=tf.keras.losses.CategoricalCrossentropy(label_smoothing = 0.2, from_logits = True),\n",
        "              metrics=['accuracy'])\n",
        "\n",
        "model.summary()"
      ],
      "metadata": {
        "colab": {
          "base_uri": "https://localhost:8080/"
        },
        "id": "TuRXJg1UoEna",
        "outputId": "b6d37f17-5b0d-4444-a7af-ac918bf5bfbf"
      },
      "execution_count": null,
      "outputs": [
        {
          "output_type": "stream",
          "name": "stdout",
          "text": [
            "Model: \"model\"\n",
            "__________________________________________________________________________________________________\n",
            " Layer (type)                Output Shape                 Param #   Connected to                  \n",
            "==================================================================================================\n",
            " input_1 (InputLayer)        [(None, 300, 300, 3)]        0         []                            \n",
            "                                                                                                  \n",
            " block1_conv1 (Conv2D)       (None, 149, 149, 32)         864       ['input_1[0][0]']             \n",
            "                                                                                                  \n",
            " block1_conv1_bn (BatchNorm  (None, 149, 149, 32)         128       ['block1_conv1[0][0]']        \n",
            " alization)                                                                                       \n",
            "                                                                                                  \n",
            " block1_conv1_act (Activati  (None, 149, 149, 32)         0         ['block1_conv1_bn[0][0]']     \n",
            " on)                                                                                              \n",
            "                                                                                                  \n",
            " block1_conv2 (Conv2D)       (None, 147, 147, 64)         18432     ['block1_conv1_act[0][0]']    \n",
            "                                                                                                  \n",
            " block1_conv2_bn (BatchNorm  (None, 147, 147, 64)         256       ['block1_conv2[0][0]']        \n",
            " alization)                                                                                       \n",
            "                                                                                                  \n",
            " block1_conv2_act (Activati  (None, 147, 147, 64)         0         ['block1_conv2_bn[0][0]']     \n",
            " on)                                                                                              \n",
            "                                                                                                  \n",
            " block2_sepconv1 (Separable  (None, 147, 147, 128)        8768      ['block1_conv2_act[0][0]']    \n",
            " Conv2D)                                                                                          \n",
            "                                                                                                  \n",
            " block2_sepconv1_bn (BatchN  (None, 147, 147, 128)        512       ['block2_sepconv1[0][0]']     \n",
            " ormalization)                                                                                    \n",
            "                                                                                                  \n",
            " block2_sepconv2_act (Activ  (None, 147, 147, 128)        0         ['block2_sepconv1_bn[0][0]']  \n",
            " ation)                                                                                           \n",
            "                                                                                                  \n",
            " block2_sepconv2 (Separable  (None, 147, 147, 128)        17536     ['block2_sepconv2_act[0][0]'] \n",
            " Conv2D)                                                                                          \n",
            "                                                                                                  \n",
            " block2_sepconv2_bn (BatchN  (None, 147, 147, 128)        512       ['block2_sepconv2[0][0]']     \n",
            " ormalization)                                                                                    \n",
            "                                                                                                  \n",
            " conv2d (Conv2D)             (None, 74, 74, 128)          8192      ['block1_conv2_act[0][0]']    \n",
            "                                                                                                  \n",
            " block2_pool (MaxPooling2D)  (None, 74, 74, 128)          0         ['block2_sepconv2_bn[0][0]']  \n",
            "                                                                                                  \n",
            " batch_normalization (Batch  (None, 74, 74, 128)          512       ['conv2d[0][0]']              \n",
            " Normalization)                                                                                   \n",
            "                                                                                                  \n",
            " add (Add)                   (None, 74, 74, 128)          0         ['block2_pool[0][0]',         \n",
            "                                                                     'batch_normalization[0][0]'] \n",
            "                                                                                                  \n",
            " block3_sepconv1_act (Activ  (None, 74, 74, 128)          0         ['add[0][0]']                 \n",
            " ation)                                                                                           \n",
            "                                                                                                  \n",
            " block3_sepconv1 (Separable  (None, 74, 74, 256)          33920     ['block3_sepconv1_act[0][0]'] \n",
            " Conv2D)                                                                                          \n",
            "                                                                                                  \n",
            " block3_sepconv1_bn (BatchN  (None, 74, 74, 256)          1024      ['block3_sepconv1[0][0]']     \n",
            " ormalization)                                                                                    \n",
            "                                                                                                  \n",
            " block3_sepconv2_act (Activ  (None, 74, 74, 256)          0         ['block3_sepconv1_bn[0][0]']  \n",
            " ation)                                                                                           \n",
            "                                                                                                  \n",
            " block3_sepconv2 (Separable  (None, 74, 74, 256)          67840     ['block3_sepconv2_act[0][0]'] \n",
            " Conv2D)                                                                                          \n",
            "                                                                                                  \n",
            " block3_sepconv2_bn (BatchN  (None, 74, 74, 256)          1024      ['block3_sepconv2[0][0]']     \n",
            " ormalization)                                                                                    \n",
            "                                                                                                  \n",
            " conv2d_1 (Conv2D)           (None, 37, 37, 256)          32768     ['add[0][0]']                 \n",
            "                                                                                                  \n",
            " block3_pool (MaxPooling2D)  (None, 37, 37, 256)          0         ['block3_sepconv2_bn[0][0]']  \n",
            "                                                                                                  \n",
            " batch_normalization_1 (Bat  (None, 37, 37, 256)          1024      ['conv2d_1[0][0]']            \n",
            " chNormalization)                                                                                 \n",
            "                                                                                                  \n",
            " add_1 (Add)                 (None, 37, 37, 256)          0         ['block3_pool[0][0]',         \n",
            "                                                                     'batch_normalization_1[0][0]'\n",
            "                                                                    ]                             \n",
            "                                                                                                  \n",
            " block4_sepconv1_act (Activ  (None, 37, 37, 256)          0         ['add_1[0][0]']               \n",
            " ation)                                                                                           \n",
            "                                                                                                  \n",
            " block4_sepconv1 (Separable  (None, 37, 37, 728)          188672    ['block4_sepconv1_act[0][0]'] \n",
            " Conv2D)                                                                                          \n",
            "                                                                                                  \n",
            " block4_sepconv1_bn (BatchN  (None, 37, 37, 728)          2912      ['block4_sepconv1[0][0]']     \n",
            " ormalization)                                                                                    \n",
            "                                                                                                  \n",
            " block4_sepconv2_act (Activ  (None, 37, 37, 728)          0         ['block4_sepconv1_bn[0][0]']  \n",
            " ation)                                                                                           \n",
            "                                                                                                  \n",
            " block4_sepconv2 (Separable  (None, 37, 37, 728)          536536    ['block4_sepconv2_act[0][0]'] \n",
            " Conv2D)                                                                                          \n",
            "                                                                                                  \n",
            " block4_sepconv2_bn (BatchN  (None, 37, 37, 728)          2912      ['block4_sepconv2[0][0]']     \n",
            " ormalization)                                                                                    \n",
            "                                                                                                  \n",
            " conv2d_2 (Conv2D)           (None, 19, 19, 728)          186368    ['add_1[0][0]']               \n",
            "                                                                                                  \n",
            " block4_pool (MaxPooling2D)  (None, 19, 19, 728)          0         ['block4_sepconv2_bn[0][0]']  \n",
            "                                                                                                  \n",
            " batch_normalization_2 (Bat  (None, 19, 19, 728)          2912      ['conv2d_2[0][0]']            \n",
            " chNormalization)                                                                                 \n",
            "                                                                                                  \n",
            " add_2 (Add)                 (None, 19, 19, 728)          0         ['block4_pool[0][0]',         \n",
            "                                                                     'batch_normalization_2[0][0]'\n",
            "                                                                    ]                             \n",
            "                                                                                                  \n",
            " block5_sepconv1_act (Activ  (None, 19, 19, 728)          0         ['add_2[0][0]']               \n",
            " ation)                                                                                           \n",
            "                                                                                                  \n",
            " block5_sepconv1 (Separable  (None, 19, 19, 728)          536536    ['block5_sepconv1_act[0][0]'] \n",
            " Conv2D)                                                                                          \n",
            "                                                                                                  \n",
            " block5_sepconv1_bn (BatchN  (None, 19, 19, 728)          2912      ['block5_sepconv1[0][0]']     \n",
            " ormalization)                                                                                    \n",
            "                                                                                                  \n",
            " block5_sepconv2_act (Activ  (None, 19, 19, 728)          0         ['block5_sepconv1_bn[0][0]']  \n",
            " ation)                                                                                           \n",
            "                                                                                                  \n",
            " block5_sepconv2 (Separable  (None, 19, 19, 728)          536536    ['block5_sepconv2_act[0][0]'] \n",
            " Conv2D)                                                                                          \n",
            "                                                                                                  \n",
            " block5_sepconv2_bn (BatchN  (None, 19, 19, 728)          2912      ['block5_sepconv2[0][0]']     \n",
            " ormalization)                                                                                    \n",
            "                                                                                                  \n",
            " block5_sepconv3_act (Activ  (None, 19, 19, 728)          0         ['block5_sepconv2_bn[0][0]']  \n",
            " ation)                                                                                           \n",
            "                                                                                                  \n",
            " block5_sepconv3 (Separable  (None, 19, 19, 728)          536536    ['block5_sepconv3_act[0][0]'] \n",
            " Conv2D)                                                                                          \n",
            "                                                                                                  \n",
            " block5_sepconv3_bn (BatchN  (None, 19, 19, 728)          2912      ['block5_sepconv3[0][0]']     \n",
            " ormalization)                                                                                    \n",
            "                                                                                                  \n",
            " add_3 (Add)                 (None, 19, 19, 728)          0         ['block5_sepconv3_bn[0][0]',  \n",
            "                                                                     'add_2[0][0]']               \n",
            "                                                                                                  \n",
            " block6_sepconv1_act (Activ  (None, 19, 19, 728)          0         ['add_3[0][0]']               \n",
            " ation)                                                                                           \n",
            "                                                                                                  \n",
            " block6_sepconv1 (Separable  (None, 19, 19, 728)          536536    ['block6_sepconv1_act[0][0]'] \n",
            " Conv2D)                                                                                          \n",
            "                                                                                                  \n",
            " block6_sepconv1_bn (BatchN  (None, 19, 19, 728)          2912      ['block6_sepconv1[0][0]']     \n",
            " ormalization)                                                                                    \n",
            "                                                                                                  \n",
            " block6_sepconv2_act (Activ  (None, 19, 19, 728)          0         ['block6_sepconv1_bn[0][0]']  \n",
            " ation)                                                                                           \n",
            "                                                                                                  \n",
            " block6_sepconv2 (Separable  (None, 19, 19, 728)          536536    ['block6_sepconv2_act[0][0]'] \n",
            " Conv2D)                                                                                          \n",
            "                                                                                                  \n",
            " block6_sepconv2_bn (BatchN  (None, 19, 19, 728)          2912      ['block6_sepconv2[0][0]']     \n",
            " ormalization)                                                                                    \n",
            "                                                                                                  \n",
            " block6_sepconv3_act (Activ  (None, 19, 19, 728)          0         ['block6_sepconv2_bn[0][0]']  \n",
            " ation)                                                                                           \n",
            "                                                                                                  \n",
            " block6_sepconv3 (Separable  (None, 19, 19, 728)          536536    ['block6_sepconv3_act[0][0]'] \n",
            " Conv2D)                                                                                          \n",
            "                                                                                                  \n",
            " block6_sepconv3_bn (BatchN  (None, 19, 19, 728)          2912      ['block6_sepconv3[0][0]']     \n",
            " ormalization)                                                                                    \n",
            "                                                                                                  \n",
            " add_4 (Add)                 (None, 19, 19, 728)          0         ['block6_sepconv3_bn[0][0]',  \n",
            "                                                                     'add_3[0][0]']               \n",
            "                                                                                                  \n",
            " block7_sepconv1_act (Activ  (None, 19, 19, 728)          0         ['add_4[0][0]']               \n",
            " ation)                                                                                           \n",
            "                                                                                                  \n",
            " block7_sepconv1 (Separable  (None, 19, 19, 728)          536536    ['block7_sepconv1_act[0][0]'] \n",
            " Conv2D)                                                                                          \n",
            "                                                                                                  \n",
            " block7_sepconv1_bn (BatchN  (None, 19, 19, 728)          2912      ['block7_sepconv1[0][0]']     \n",
            " ormalization)                                                                                    \n",
            "                                                                                                  \n",
            " block7_sepconv2_act (Activ  (None, 19, 19, 728)          0         ['block7_sepconv1_bn[0][0]']  \n",
            " ation)                                                                                           \n",
            "                                                                                                  \n",
            " block7_sepconv2 (Separable  (None, 19, 19, 728)          536536    ['block7_sepconv2_act[0][0]'] \n",
            " Conv2D)                                                                                          \n",
            "                                                                                                  \n",
            " block7_sepconv2_bn (BatchN  (None, 19, 19, 728)          2912      ['block7_sepconv2[0][0]']     \n",
            " ormalization)                                                                                    \n",
            "                                                                                                  \n",
            " block7_sepconv3_act (Activ  (None, 19, 19, 728)          0         ['block7_sepconv2_bn[0][0]']  \n",
            " ation)                                                                                           \n",
            "                                                                                                  \n",
            " block7_sepconv3 (Separable  (None, 19, 19, 728)          536536    ['block7_sepconv3_act[0][0]'] \n",
            " Conv2D)                                                                                          \n",
            "                                                                                                  \n",
            " block7_sepconv3_bn (BatchN  (None, 19, 19, 728)          2912      ['block7_sepconv3[0][0]']     \n",
            " ormalization)                                                                                    \n",
            "                                                                                                  \n",
            " add_5 (Add)                 (None, 19, 19, 728)          0         ['block7_sepconv3_bn[0][0]',  \n",
            "                                                                     'add_4[0][0]']               \n",
            "                                                                                                  \n",
            " block8_sepconv1_act (Activ  (None, 19, 19, 728)          0         ['add_5[0][0]']               \n",
            " ation)                                                                                           \n",
            "                                                                                                  \n",
            " block8_sepconv1 (Separable  (None, 19, 19, 728)          536536    ['block8_sepconv1_act[0][0]'] \n",
            " Conv2D)                                                                                          \n",
            "                                                                                                  \n",
            " block8_sepconv1_bn (BatchN  (None, 19, 19, 728)          2912      ['block8_sepconv1[0][0]']     \n",
            " ormalization)                                                                                    \n",
            "                                                                                                  \n",
            " block8_sepconv2_act (Activ  (None, 19, 19, 728)          0         ['block8_sepconv1_bn[0][0]']  \n",
            " ation)                                                                                           \n",
            "                                                                                                  \n",
            " block8_sepconv2 (Separable  (None, 19, 19, 728)          536536    ['block8_sepconv2_act[0][0]'] \n",
            " Conv2D)                                                                                          \n",
            "                                                                                                  \n",
            " block8_sepconv2_bn (BatchN  (None, 19, 19, 728)          2912      ['block8_sepconv2[0][0]']     \n",
            " ormalization)                                                                                    \n",
            "                                                                                                  \n",
            " block8_sepconv3_act (Activ  (None, 19, 19, 728)          0         ['block8_sepconv2_bn[0][0]']  \n",
            " ation)                                                                                           \n",
            "                                                                                                  \n",
            " block8_sepconv3 (Separable  (None, 19, 19, 728)          536536    ['block8_sepconv3_act[0][0]'] \n",
            " Conv2D)                                                                                          \n",
            "                                                                                                  \n",
            " block8_sepconv3_bn (BatchN  (None, 19, 19, 728)          2912      ['block8_sepconv3[0][0]']     \n",
            " ormalization)                                                                                    \n",
            "                                                                                                  \n",
            " add_6 (Add)                 (None, 19, 19, 728)          0         ['block8_sepconv3_bn[0][0]',  \n",
            "                                                                     'add_5[0][0]']               \n",
            "                                                                                                  \n",
            " block9_sepconv1_act (Activ  (None, 19, 19, 728)          0         ['add_6[0][0]']               \n",
            " ation)                                                                                           \n",
            "                                                                                                  \n",
            " block9_sepconv1 (Separable  (None, 19, 19, 728)          536536    ['block9_sepconv1_act[0][0]'] \n",
            " Conv2D)                                                                                          \n",
            "                                                                                                  \n",
            " block9_sepconv1_bn (BatchN  (None, 19, 19, 728)          2912      ['block9_sepconv1[0][0]']     \n",
            " ormalization)                                                                                    \n",
            "                                                                                                  \n",
            " block9_sepconv2_act (Activ  (None, 19, 19, 728)          0         ['block9_sepconv1_bn[0][0]']  \n",
            " ation)                                                                                           \n",
            "                                                                                                  \n",
            " block9_sepconv2 (Separable  (None, 19, 19, 728)          536536    ['block9_sepconv2_act[0][0]'] \n",
            " Conv2D)                                                                                          \n",
            "                                                                                                  \n",
            " block9_sepconv2_bn (BatchN  (None, 19, 19, 728)          2912      ['block9_sepconv2[0][0]']     \n",
            " ormalization)                                                                                    \n",
            "                                                                                                  \n",
            " block9_sepconv3_act (Activ  (None, 19, 19, 728)          0         ['block9_sepconv2_bn[0][0]']  \n",
            " ation)                                                                                           \n",
            "                                                                                                  \n",
            " block9_sepconv3 (Separable  (None, 19, 19, 728)          536536    ['block9_sepconv3_act[0][0]'] \n",
            " Conv2D)                                                                                          \n",
            "                                                                                                  \n",
            " block9_sepconv3_bn (BatchN  (None, 19, 19, 728)          2912      ['block9_sepconv3[0][0]']     \n",
            " ormalization)                                                                                    \n",
            "                                                                                                  \n",
            " add_7 (Add)                 (None, 19, 19, 728)          0         ['block9_sepconv3_bn[0][0]',  \n",
            "                                                                     'add_6[0][0]']               \n",
            "                                                                                                  \n",
            " block10_sepconv1_act (Acti  (None, 19, 19, 728)          0         ['add_7[0][0]']               \n",
            " vation)                                                                                          \n",
            "                                                                                                  \n",
            " block10_sepconv1 (Separabl  (None, 19, 19, 728)          536536    ['block10_sepconv1_act[0][0]']\n",
            " eConv2D)                                                                                         \n",
            "                                                                                                  \n",
            " block10_sepconv1_bn (Batch  (None, 19, 19, 728)          2912      ['block10_sepconv1[0][0]']    \n",
            " Normalization)                                                                                   \n",
            "                                                                                                  \n",
            " block10_sepconv2_act (Acti  (None, 19, 19, 728)          0         ['block10_sepconv1_bn[0][0]'] \n",
            " vation)                                                                                          \n",
            "                                                                                                  \n",
            " block10_sepconv2 (Separabl  (None, 19, 19, 728)          536536    ['block10_sepconv2_act[0][0]']\n",
            " eConv2D)                                                                                         \n",
            "                                                                                                  \n",
            " block10_sepconv2_bn (Batch  (None, 19, 19, 728)          2912      ['block10_sepconv2[0][0]']    \n",
            " Normalization)                                                                                   \n",
            "                                                                                                  \n",
            " block10_sepconv3_act (Acti  (None, 19, 19, 728)          0         ['block10_sepconv2_bn[0][0]'] \n",
            " vation)                                                                                          \n",
            "                                                                                                  \n",
            " block10_sepconv3 (Separabl  (None, 19, 19, 728)          536536    ['block10_sepconv3_act[0][0]']\n",
            " eConv2D)                                                                                         \n",
            "                                                                                                  \n",
            " block10_sepconv3_bn (Batch  (None, 19, 19, 728)          2912      ['block10_sepconv3[0][0]']    \n",
            " Normalization)                                                                                   \n",
            "                                                                                                  \n",
            " add_8 (Add)                 (None, 19, 19, 728)          0         ['block10_sepconv3_bn[0][0]', \n",
            "                                                                     'add_7[0][0]']               \n",
            "                                                                                                  \n",
            " block11_sepconv1_act (Acti  (None, 19, 19, 728)          0         ['add_8[0][0]']               \n",
            " vation)                                                                                          \n",
            "                                                                                                  \n",
            " block11_sepconv1 (Separabl  (None, 19, 19, 728)          536536    ['block11_sepconv1_act[0][0]']\n",
            " eConv2D)                                                                                         \n",
            "                                                                                                  \n",
            " block11_sepconv1_bn (Batch  (None, 19, 19, 728)          2912      ['block11_sepconv1[0][0]']    \n",
            " Normalization)                                                                                   \n",
            "                                                                                                  \n",
            " block11_sepconv2_act (Acti  (None, 19, 19, 728)          0         ['block11_sepconv1_bn[0][0]'] \n",
            " vation)                                                                                          \n",
            "                                                                                                  \n",
            " block11_sepconv2 (Separabl  (None, 19, 19, 728)          536536    ['block11_sepconv2_act[0][0]']\n",
            " eConv2D)                                                                                         \n",
            "                                                                                                  \n",
            " block11_sepconv2_bn (Batch  (None, 19, 19, 728)          2912      ['block11_sepconv2[0][0]']    \n",
            " Normalization)                                                                                   \n",
            "                                                                                                  \n",
            " block11_sepconv3_act (Acti  (None, 19, 19, 728)          0         ['block11_sepconv2_bn[0][0]'] \n",
            " vation)                                                                                          \n",
            "                                                                                                  \n",
            " block11_sepconv3 (Separabl  (None, 19, 19, 728)          536536    ['block11_sepconv3_act[0][0]']\n",
            " eConv2D)                                                                                         \n",
            "                                                                                                  \n",
            " block11_sepconv3_bn (Batch  (None, 19, 19, 728)          2912      ['block11_sepconv3[0][0]']    \n",
            " Normalization)                                                                                   \n",
            "                                                                                                  \n",
            " add_9 (Add)                 (None, 19, 19, 728)          0         ['block11_sepconv3_bn[0][0]', \n",
            "                                                                     'add_8[0][0]']               \n",
            "                                                                                                  \n",
            " block12_sepconv1_act (Acti  (None, 19, 19, 728)          0         ['add_9[0][0]']               \n",
            " vation)                                                                                          \n",
            "                                                                                                  \n",
            " block12_sepconv1 (Separabl  (None, 19, 19, 728)          536536    ['block12_sepconv1_act[0][0]']\n",
            " eConv2D)                                                                                         \n",
            "                                                                                                  \n",
            " block12_sepconv1_bn (Batch  (None, 19, 19, 728)          2912      ['block12_sepconv1[0][0]']    \n",
            " Normalization)                                                                                   \n",
            "                                                                                                  \n",
            " block12_sepconv2_act (Acti  (None, 19, 19, 728)          0         ['block12_sepconv1_bn[0][0]'] \n",
            " vation)                                                                                          \n",
            "                                                                                                  \n",
            " block12_sepconv2 (Separabl  (None, 19, 19, 728)          536536    ['block12_sepconv2_act[0][0]']\n",
            " eConv2D)                                                                                         \n",
            "                                                                                                  \n",
            " block12_sepconv2_bn (Batch  (None, 19, 19, 728)          2912      ['block12_sepconv2[0][0]']    \n",
            " Normalization)                                                                                   \n",
            "                                                                                                  \n",
            " block12_sepconv3_act (Acti  (None, 19, 19, 728)          0         ['block12_sepconv2_bn[0][0]'] \n",
            " vation)                                                                                          \n",
            "                                                                                                  \n",
            " block12_sepconv3 (Separabl  (None, 19, 19, 728)          536536    ['block12_sepconv3_act[0][0]']\n",
            " eConv2D)                                                                                         \n",
            "                                                                                                  \n",
            " block12_sepconv3_bn (Batch  (None, 19, 19, 728)          2912      ['block12_sepconv3[0][0]']    \n",
            " Normalization)                                                                                   \n",
            "                                                                                                  \n",
            " add_10 (Add)                (None, 19, 19, 728)          0         ['block12_sepconv3_bn[0][0]', \n",
            "                                                                     'add_9[0][0]']               \n",
            "                                                                                                  \n",
            " block13_sepconv1_act (Acti  (None, 19, 19, 728)          0         ['add_10[0][0]']              \n",
            " vation)                                                                                          \n",
            "                                                                                                  \n",
            " block13_sepconv1 (Separabl  (None, 19, 19, 728)          536536    ['block13_sepconv1_act[0][0]']\n",
            " eConv2D)                                                                                         \n",
            "                                                                                                  \n",
            " block13_sepconv1_bn (Batch  (None, 19, 19, 728)          2912      ['block13_sepconv1[0][0]']    \n",
            " Normalization)                                                                                   \n",
            "                                                                                                  \n",
            " block13_sepconv2_act (Acti  (None, 19, 19, 728)          0         ['block13_sepconv1_bn[0][0]'] \n",
            " vation)                                                                                          \n",
            "                                                                                                  \n",
            " block13_sepconv2 (Separabl  (None, 19, 19, 1024)         752024    ['block13_sepconv2_act[0][0]']\n",
            " eConv2D)                                                                                         \n",
            "                                                                                                  \n",
            " block13_sepconv2_bn (Batch  (None, 19, 19, 1024)         4096      ['block13_sepconv2[0][0]']    \n",
            " Normalization)                                                                                   \n",
            "                                                                                                  \n",
            " conv2d_3 (Conv2D)           (None, 10, 10, 1024)         745472    ['add_10[0][0]']              \n",
            "                                                                                                  \n",
            " block13_pool (MaxPooling2D  (None, 10, 10, 1024)         0         ['block13_sepconv2_bn[0][0]'] \n",
            " )                                                                                                \n",
            "                                                                                                  \n",
            " batch_normalization_3 (Bat  (None, 10, 10, 1024)         4096      ['conv2d_3[0][0]']            \n",
            " chNormalization)                                                                                 \n",
            "                                                                                                  \n",
            " add_11 (Add)                (None, 10, 10, 1024)         0         ['block13_pool[0][0]',        \n",
            "                                                                     'batch_normalization_3[0][0]'\n",
            "                                                                    ]                             \n",
            "                                                                                                  \n",
            " block14_sepconv1 (Separabl  (None, 10, 10, 1536)         1582080   ['add_11[0][0]']              \n",
            " eConv2D)                                                                                         \n",
            "                                                                                                  \n",
            " block14_sepconv1_bn (Batch  (None, 10, 10, 1536)         6144      ['block14_sepconv1[0][0]']    \n",
            " Normalization)                                                                                   \n",
            "                                                                                                  \n",
            " block14_sepconv1_act (Acti  (None, 10, 10, 1536)         0         ['block14_sepconv1_bn[0][0]'] \n",
            " vation)                                                                                          \n",
            "                                                                                                  \n",
            " block14_sepconv2 (Separabl  (None, 10, 10, 2048)         3159552   ['block14_sepconv1_act[0][0]']\n",
            " eConv2D)                                                                                         \n",
            "                                                                                                  \n",
            " block14_sepconv2_bn (Batch  (None, 10, 10, 2048)         8192      ['block14_sepconv2[0][0]']    \n",
            " Normalization)                                                                                   \n",
            "                                                                                                  \n",
            " block14_sepconv2_act (Acti  (None, 10, 10, 2048)         0         ['block14_sepconv2_bn[0][0]'] \n",
            " vation)                                                                                          \n",
            "                                                                                                  \n",
            " sequential (Sequential)     (None, 5)                    2621517   ['block14_sepconv2_act[0][0]']\n",
            "                                                          3                                       \n",
            "                                                                                                  \n",
            "==================================================================================================\n",
            "Total params: 47076653 (179.58 MB)\n",
            "Trainable params: 47022125 (179.38 MB)\n",
            "Non-trainable params: 54528 (213.00 KB)\n",
            "__________________________________________________________________________________________________\n"
          ]
        }
      ]
    },
    {
      "cell_type": "code",
      "source": [
        "# Training the model\n",
        "hist = model.fit(train_generator, validation_data = valid_generator, epochs = 15)"
      ],
      "metadata": {
        "colab": {
          "base_uri": "https://localhost:8080/"
        },
        "id": "1OC6Strmogxw",
        "outputId": "93365948-18d5-4d36-983a-14ebf8522ad0"
      },
      "execution_count": null,
      "outputs": [
        {
          "output_type": "stream",
          "name": "stdout",
          "text": [
            "Epoch 1/15\n"
          ]
        },
        {
          "output_type": "stream",
          "name": "stderr",
          "text": [
            "/usr/local/lib/python3.10/dist-packages/keras/src/backend.py:5575: UserWarning: \"`categorical_crossentropy` received `from_logits=True`, but the `output` argument was produced by a Softmax activation and thus does not represent logits. Was this intended?\n",
            "  output, from_logits = _get_logits(\n"
          ]
        },
        {
          "output_type": "stream",
          "name": "stdout",
          "text": [
            "10/68 [===>..........................] - ETA: 35s - loss: 1.6340 - accuracy: 0.2812"
          ]
        },
        {
          "output_type": "stream",
          "name": "stderr",
          "text": [
            "/usr/local/lib/python3.10/dist-packages/PIL/Image.py:996: UserWarning: Palette images with Transparency expressed in bytes should be converted to RGBA images\n",
            "  warnings.warn(\n"
          ]
        },
        {
          "output_type": "stream",
          "name": "stdout",
          "text": [
            "68/68 [==============================] - 149s 2s/step - loss: 1.2595 - accuracy: 0.6059 - val_loss: 0.9826 - val_accuracy: 0.8128\n",
            "Epoch 2/15\n",
            "68/68 [==============================] - 37s 545ms/step - loss: 0.9740 - accuracy: 0.8307 - val_loss: 0.8889 - val_accuracy: 0.8809\n",
            "Epoch 3/15\n",
            "68/68 [==============================] - 37s 545ms/step - loss: 0.9017 - accuracy: 0.8862 - val_loss: 0.8297 - val_accuracy: 0.9426\n",
            "Epoch 4/15\n",
            "68/68 [==============================] - 37s 549ms/step - loss: 0.8678 - accuracy: 0.9177 - val_loss: 0.8228 - val_accuracy: 0.9362\n",
            "Epoch 5/15\n",
            "68/68 [==============================] - 37s 542ms/step - loss: 0.8508 - accuracy: 0.9232 - val_loss: 0.8201 - val_accuracy: 0.9319\n",
            "Epoch 6/15\n",
            "68/68 [==============================] - 37s 545ms/step - loss: 0.8224 - accuracy: 0.9473 - val_loss: 0.8267 - val_accuracy: 0.9426\n",
            "Epoch 7/15\n",
            "68/68 [==============================] - 37s 545ms/step - loss: 0.8111 - accuracy: 0.9547 - val_loss: 0.8030 - val_accuracy: 0.9404\n",
            "Epoch 8/15\n",
            "68/68 [==============================] - 37s 546ms/step - loss: 0.7967 - accuracy: 0.9602 - val_loss: 0.7961 - val_accuracy: 0.9574\n",
            "Epoch 9/15\n",
            "68/68 [==============================] - 37s 542ms/step - loss: 0.7801 - accuracy: 0.9741 - val_loss: 0.7996 - val_accuracy: 0.9404\n",
            "Epoch 10/15\n",
            "68/68 [==============================] - 37s 545ms/step - loss: 0.7688 - accuracy: 0.9806 - val_loss: 0.7975 - val_accuracy: 0.9489\n",
            "Epoch 11/15\n",
            "68/68 [==============================] - 37s 542ms/step - loss: 0.7639 - accuracy: 0.9815 - val_loss: 0.8017 - val_accuracy: 0.9468\n",
            "Epoch 12/15\n",
            "68/68 [==============================] - 37s 540ms/step - loss: 0.7624 - accuracy: 0.9806 - val_loss: 0.7952 - val_accuracy: 0.9489\n",
            "Epoch 13/15\n",
            "68/68 [==============================] - 37s 543ms/step - loss: 0.7516 - accuracy: 0.9907 - val_loss: 0.7957 - val_accuracy: 0.9319\n",
            "Epoch 14/15\n",
            "68/68 [==============================] - 37s 540ms/step - loss: 0.7519 - accuracy: 0.9889 - val_loss: 0.8028 - val_accuracy: 0.9404\n",
            "Epoch 15/15\n",
            "68/68 [==============================] - 37s 545ms/step - loss: 0.7470 - accuracy: 0.9852 - val_loss: 0.7864 - val_accuracy: 0.9638\n"
          ]
        }
      ]
    },
    {
      "cell_type": "markdown",
      "source": [
        "# **Step 4. Model Evaluation**\n",
        "This part will assess the performance of the trained model using the test dataset. This is crucial for understanding how well the model performs on unseen data. Performance metrics such as accuracy, precision, and recall offer insights into the model's effectiveness."
      ],
      "metadata": {
        "id": "EoaoIjOfoJ1B"
      }
    },
    {
      "cell_type": "code",
      "source": [
        "# Evaluating the model\n",
        "val_loss, val_accuracy = model.evaluate(valid_generator)\n",
        "print(f'Validation loss: {val_loss}')\n",
        "print(f'Validation accuracy: {val_accuracy}')"
      ],
      "metadata": {
        "colab": {
          "base_uri": "https://localhost:8080/"
        },
        "id": "e61aGNQgoLrv",
        "outputId": "cccae58d-946c-49cb-ea90-f955b80ddff7"
      },
      "execution_count": null,
      "outputs": [
        {
          "output_type": "stream",
          "name": "stdout",
          "text": [
            "30/30 [==============================] - 8s 278ms/step - loss: 0.7864 - accuracy: 0.9638\n",
            "Validation loss: 0.7863693833351135\n",
            "Validation accuracy: 0.9638298153877258\n"
          ]
        }
      ]
    },
    {
      "cell_type": "markdown",
      "source": [
        "# **Step 5. Results and Visualization**\n",
        "Finally, this section involves visualizing the training and validation loss and accuracy, interpreting these results to understand the model's learning behavior, and saving the trained model. This saved model can then be deployed or reused for future yoga pose detection without the need for retraining, making it a practical tool for real-world applications."
      ],
      "metadata": {
        "id": "YBHBuPkEoP9K"
      }
    },
    {
      "cell_type": "code",
      "source": [
        "# Saving the model\n",
        "model.save(\"/content/drive/MyDrive/YOGA_POSE_DETECTION/TRAINED_MODEL/Yoga_Pose_Classification_Model.h5\")"
      ],
      "metadata": {
        "colab": {
          "base_uri": "https://localhost:8080/"
        },
        "id": "ADg2vxpdq4GL",
        "outputId": "18a7baf8-251b-41ea-b603-460bc096ec4a"
      },
      "execution_count": null,
      "outputs": [
        {
          "output_type": "stream",
          "name": "stderr",
          "text": [
            "/usr/local/lib/python3.10/dist-packages/keras/src/engine/training.py:3103: UserWarning: You are saving your model as an HDF5 file via `model.save()`. This file format is considered legacy. We recommend using instead the native Keras format, e.g. `model.save('my_model.keras')`.\n",
            "  saving_api.save_model(\n"
          ]
        }
      ]
    },
    {
      "cell_type": "code",
      "source": [
        "# Visualizing training results\n",
        "plt.figure(figsize = (12, 4))\n",
        "plt.subplot(1, 2, 1)\n",
        "plt.plot(hist.history['accuracy'], label = 'Training Accuracy')\n",
        "plt.plot(hist.history['val_accuracy'], label = 'Validation Accuracy')\n",
        "plt.legend()\n",
        "plt.title('Accuracy over Epochs')\n",
        "\n",
        "plt.subplot(1, 2, 2)\n",
        "plt.plot(hist.history['loss'], label = 'Training Loss')\n",
        "plt.plot(hist.history['val_loss'], label = 'Validation Loss')\n",
        "plt.legend()\n",
        "plt.title('Loss over Epochs')\n",
        "\n",
        "plt.show()"
      ],
      "metadata": {
        "colab": {
          "base_uri": "https://localhost:8080/",
          "height": 391
        },
        "id": "70sIAoDRoS_w",
        "outputId": "5f7e9c65-60d9-44a3-f64e-4b1e19dccd42"
      },
      "execution_count": null,
      "outputs": [
        {
          "output_type": "display_data",
          "data": {
            "text/plain": [
              "<Figure size 1200x400 with 2 Axes>"
            ],
            "image/png": "[encoded data removed]"
          },
          "metadata": {}
        }
      ]
    },
    {
      "cell_type": "markdown",
      "source": [
        "# **THE END**"
      ],
      "metadata": {
        "id": "ndvNjAC5owXM"
      }
    }
  ]
}
